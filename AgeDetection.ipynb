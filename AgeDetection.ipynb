{
 "cells": [
  {
   "cell_type": "code",
   "execution_count": 1,
   "metadata": {},
   "outputs": [
    {
     "name": "stdout",
     "output_type": "stream",
     "text": [
      "Populating the interactive namespace from numpy and matplotlib\n"
     ]
    },
    {
     "name": "stderr",
     "output_type": "stream",
     "text": [
      "/home/manish/anaconda3/lib/python3.6/importlib/_bootstrap.py:219: RuntimeWarning: numpy.dtype size changed, may indicate binary incompatibility. Expected 96, got 88\n",
      "  return f(*args, **kwds)\n",
      "/home/manish/anaconda3/lib/python3.6/importlib/_bootstrap.py:219: RuntimeWarning: numpy.dtype size changed, may indicate binary incompatibility. Expected 96, got 88\n",
      "  return f(*args, **kwds)\n",
      "/home/manish/anaconda3/lib/python3.6/site-packages/h5py/__init__.py:36: FutureWarning: Conversion of the second argument of issubdtype from `float` to `np.floating` is deprecated. In future, it will be treated as `np.float64 == np.dtype(float).type`.\n",
      "  from ._conv import register_converters as _register_converters\n",
      "Using TensorFlow backend.\n"
     ]
    }
   ],
   "source": [
    "% pylab inline\n",
    "import os\n",
    "import random\n",
    "\n",
    "import pandas as pd\n",
    "from scipy.misc import imread\n",
    "from scipy.misc import imresize\n",
    "import keras\n",
    "from sklearn.preprocessing import LabelEncoder\n",
    "from PIL import Image\n",
    "from keras.models import Sequential\n",
    "from keras.layers import Dense, Flatten, InputLayer,MaxPool2D, Conv2D, Reshape, Dropout,BatchNormalization, Activation\n",
    "from livelossplot import PlotLossesKeras\n",
    "from keras.regularizers import l2"
   ]
  },
  {
   "cell_type": "code",
   "execution_count": 2,
   "metadata": {},
   "outputs": [],
   "source": [
    "root_dir = os.path.abspath('.')\n",
    "data_dir = '/home/manish/my-custom-data/ageDetetction/'\n",
    "train = pd.read_csv(os.path.join(data_dir+'/train', 'train.csv'))\n",
    "test = pd.read_csv(os.path.join(data_dir+'/test', 'test.csv'))\n",
    "old=train[train.Class==\"OLD\"]\n",
    "train=pd.concat([train,old,old],axis=0,ignore_index=True)\n",
    "train=train.sample(frac=1)"
   ]
  },
  {
   "cell_type": "code",
   "execution_count": 3,
   "metadata": {},
   "outputs": [],
   "source": [
    "# converting the image size to 32x32 \n",
    "training=[]\n",
    "# training images\n",
    "for img_name in train.ID:\n",
    "    path=os.path.join(data_dir,'train/Train',img_name)\n",
    "#     img=Image.open(path).convert('L').resize((32,32))\n",
    "    img=Image.open(path).resize((32,32))\n",
    "    img.dtype=np.float32\n",
    "    training.append(img)\n",
    "train_x=np.stack(training)\n",
    "\n",
    "# test images\n",
    "test_img=[]\n",
    "for img_name in test.ID:\n",
    "    path=os.path.join(data_dir,'test/Test',img_name)\n",
    "#     img=Image.open(path).convert('L').resize((32,32))\n",
    "    img=Image.open(path).resize((32,32))\n",
    "    img.dtype=np.float32\n",
    "    test_img.append(img)\n",
    "test_x=np.stack(test_img)\n"
   ]
  },
  {
   "cell_type": "code",
   "execution_count": 4,
   "metadata": {},
   "outputs": [
    {
     "data": {
      "text/plain": [
       "(6636, 32, 32, 3)"
      ]
     },
     "execution_count": 4,
     "metadata": {},
     "output_type": "execute_result"
    }
   ],
   "source": [
    "test_x.shape"
   ]
  },
  {
   "cell_type": "code",
   "execution_count": 5,
   "metadata": {},
   "outputs": [],
   "source": [
    "# datagen = ImageDataGenerator()"
   ]
  },
  {
   "cell_type": "code",
   "execution_count": 6,
   "metadata": {},
   "outputs": [],
   "source": [
    "train_x = train_x / 255.\n",
    "test_x = test_x / 255."
   ]
  },
  {
   "cell_type": "code",
   "execution_count": 7,
   "metadata": {},
   "outputs": [],
   "source": [
    "lb = LabelEncoder()\n",
    "train_y = lb.fit_transform(train.Class)\n",
    "train_y = keras.utils.np_utils.to_categorical(train_y)"
   ]
  },
  {
   "cell_type": "code",
   "execution_count": 8,
   "metadata": {},
   "outputs": [],
   "source": [
    "input_num_units = (32, 32, 3)\n",
    "output_num_units = 3\n",
    "epochs = 50\n",
    "batch_size = 128\n",
    "\n",
    "weight_decay=1e-4"
   ]
  },
  {
   "cell_type": "code",
   "execution_count": 9,
   "metadata": {},
   "outputs": [],
   "source": [
    "def cnn_model():\n",
    "    model=Sequential()\n",
    "    model.add(Reshape(target_shape=(32,32,1)))\n",
    "    model.add(InputLayer(input_shape=input_num_units))\n",
    "    model.add(Conv2D(activation='elu',filters=32,kernel_size=3,padding='same',kernel_initializer=keras.initializers.TruncatedNormal(mean=0.0, stddev=0.01, seed=None)))\n",
    "#     model.add(MaxPool2D(pool_size=2,strides=2))\n",
    "    model.add(Conv2D(activation='elu',filters=32,kernel_size=3,padding='same',kernel_initializer=keras.initializers.TruncatedNormal(mean=0.0, stddev=0.01, seed=None)))\n",
    "    model.add(MaxPool2D(pool_size=2,strides=2))\n",
    "#     model.add(Conv2D(activation='elu',filters=128,kernel_size=3,padding='same'))\n",
    "    model.add(Conv2D(activation='elu',filters=64,kernel_size=3,padding='same',kernel_initializer=keras.initializers.TruncatedNormal(mean=0.0, stddev=0.01, seed=None)))\n",
    "    model.add(Conv2D(activation='elu',filters=64,kernel_size=3,padding='same',kernel_initializer=keras.initializers.TruncatedNormal(mean=0.0, stddev=0.01, seed=None)))\n",
    "    model.add(MaxPool2D(pool_size=2,strides=2))\n",
    "#     model.add(Flatten())\n",
    "#     model.add(Dense(units=256,activation='relu'))\n",
    "    model.add(Conv2D(activation='elu',filters=128,kernel_size=3,padding='same',kernel_initializer=keras.initializers.TruncatedNormal(mean=0.0, stddev=0.01, seed=None)))\n",
    "    model.add(Conv2D(activation='elu',filters=128,kernel_size=3,padding='same',kernel_initializer=keras.initializers.TruncatedNormal(mean=0.0, stddev=0.01, seed=None)))\n",
    "    model.add(MaxPool2D(pool_size=2,strides=2))\n",
    "    model.add(keras.layers.GlobalAveragePooling2D())\n",
    "    model.add(Dropout(rate=0.5))\n",
    "    model.add(Dense(units=3,activation='softmax'))\n",
    "    return model\n",
    "    \n",
    "    "
   ]
  },
  {
   "cell_type": "code",
   "execution_count": 10,
   "metadata": {},
   "outputs": [],
   "source": [
    "\n",
    "def fconnet():\n",
    "    model=Sequential()\n",
    "    model.add(Reshape(target_shape=(32,32,3)))\n",
    "    model.add(InputLayer(input_shape=input_num_units))\n",
    "    \n",
    "    for _ in range(0,3):\n",
    "        model.add(Conv2D(activation='elu',filters=128,kernel_size=3,padding='same',\n",
    "                         kernel_initializer=keras.initializers.TruncatedNormal(mean=0.0, stddev=0.01),strides=1))\n",
    "        model.add(MaxPool2D(pool_size=2,strides=2,padding='same'))\n",
    "        \n",
    "    model.add(Conv2D(activation='elu',filters=3,kernel_size=3,padding='same',\n",
    "                         kernel_initializer=keras.initializers.TruncatedNormal(mean=0.0, stddev=0.01),strides=1))\n",
    "    model.add(keras.layers.GlobalAveragePooling2D())\n",
    "    model.add(Dropout(rate=0.5))\n",
    "    model.add(Dense(units=3,activation='softmax'))\n",
    "    return model"
   ]
  },
  {
   "cell_type": "code",
   "execution_count": 11,
   "metadata": {},
   "outputs": [],
   "source": [
    "def simple_model():\n",
    "    model=Sequential()\n",
    "    model.add(Reshape(target_shape=(32,32,3)))\n",
    "#     model.add(InputLayer(input_shape=input_num_units))\n",
    "    model.add(Conv2D(activation='elu',filters=64,kernel_size=3,padding='same',\n",
    "                         kernel_initializer=keras.initializers.TruncatedNormal(mean=0.0, stddev=0.02),strides=1,kernel_regularizer=l2(weight_decay)))\n",
    "    model.add(MaxPool2D(pool_size=2,strides=2,padding='same'))\n",
    "    model.add(Dropout(rate=0.5))\n",
    "    model.add(Conv2D(activation='elu',filters=128,kernel_size=3,padding='same',\n",
    "                         kernel_initializer=keras.initializers.TruncatedNormal(mean=0.0, stddev=0.02),strides=1,kernel_regularizer=l2(weight_decay)))\n",
    "    model.add(MaxPool2D(pool_size=2,strides=2,padding='same'))\n",
    "    model.add(Flatten())\n",
    "    model.add(Dropout(rate=0.5)\n",
    "    model.add(Dense(activation=\"elu\",units=512,kernel_regularizer=l2(weight_decay)))\n",
    "    model.add(Dropout(rate=0.5))\n",
    "    model.add(Dense(activation=\"elu\",units=1024,kernel_regularizer=l2(weight_decay)))\n",
    "    model.add(Dropout(rate=0.5))\n",
    "    model.add(Dense(units=3,activation='softmax'))\n",
    "    return model"
   ]
  },
  {
   "cell_type": "code",
   "execution_count": 12,
   "metadata": {},
   "outputs": [],
   "source": [
    "def simple_model_2():\n",
    "    model=Sequential()\n",
    "    model.add(Reshape(target_shape=(32,32,3)))\n",
    "#     model.add(InputLayer(input_shape=input_num_units))\n",
    "    model.add(Conv2D(filters=128,kernel_size=5,padding='same',\n",
    "                         kernel_initializer=keras.initializers.TruncatedNormal(mean=0.0, stddev=0.01),strides=1,kernel_regularizer=l2(weight_decay)))\n",
    "    model.add(BatchNormalization())\n",
    "    model.add(Activation(activation=\"relu\"))\n",
    "    model.add(MaxPool2D(pool_size=2,strides=2,padding='same'))\n",
    "    model.add(Dropout(rate=0.5))\n",
    "    model.add(Conv2D(filters=128,kernel_size=5,padding='same',\n",
    "                         kernel_initializer=keras.initializers.TruncatedNormal(mean=0.0, stddev=0.01),strides=1,kernel_regularizer=l2(weight_decay)))\n",
    "    model.add(BatchNormalization())\n",
    "    model.add(Activation(activation=\"relu\"))\n",
    "    model.add(MaxPool2D(pool_size=2,strides=2,padding='same'))\n",
    "    model.add(Flatten())\n",
    "    model.add(Dropout(rate=0.5))\n",
    "    model.add(Dense(activation=\"relu\",units=512))\n",
    "    model.add(Dropout(rate=0.5))\n",
    "    model.add(Dense(activation=\"relu\",units=512))\n",
    "    model.add(Dropout(rate=0.5))\n",
    "    model.add(Dense(activation=\"softmax\",units=3))\n",
    "    return model"
   ]
  },
  {
   "cell_type": "code",
   "execution_count": 13,
   "metadata": {},
   "outputs": [],
   "source": [
    "import tensorflow as tf\n",
    "tf.reset_default_graph()\n",
    "# model=cnn_model()\n",
    "# model=fconnet()\n",
    "model=simple_model()"
   ]
  },
  {
   "cell_type": "code",
   "execution_count": 14,
   "metadata": {},
   "outputs": [],
   "source": [
    "# model.summary()\n",
    "learning_rate=1e-6\n",
    "def sch(ep):\n",
    "    learning_rate/=10\n",
    "    return learning_rate\n",
    "lr_schedular=keras.callbacks.LearningRateScheduler(schedule=sch,verbose=1)\n",
    "earlystop=keras.callbacks.EarlyStopping(monitor='val_accuracy', min_delta=0, patience=10, verbose=1, mode='auto', baseline=None)\n",
    "optim=keras.optimizers.Adam(lr=0.001)\n",
    "learning_rate=0.005\n",
    "def schedule(epoch):\n",
    "    if epoch%8==0:\n",
    "        rate=0.001\n",
    "    else:\n",
    "        rate=0.001/(epoch%8)\n",
    "    return rate\n",
    "lrschedular=keras.callbacks.LearningRateScheduler(schedule, verbose=0)\n"
   ]
  },
  {
   "cell_type": "code",
   "execution_count": 15,
   "metadata": {},
   "outputs": [
    {
     "data": {
      "image/png": "[encoded data removed]",
      "text/plain": [
       "<Figure size 864x576 with 2 Axes>"
      ]
     },
     "metadata": {},
     "output_type": "display_data"
    },
    {
     "data": {
      "text/plain": [
       "<keras.callbacks.History at 0x7f42f9d6cb00>"
      ]
     },
     "execution_count": 15,
     "metadata": {},
     "output_type": "execute_result"
    }
   ],
   "source": [
    "model.compile(optimizer=optim, loss='categorical_crossentropy', metrics=['categorical_accuracy'])\n",
    "model.fit(train_x, train_y, batch_size=batch_size,epochs=epochs,verbose=1, validation_split=0.2,callbacks=[PlotLossesKeras()])"
   ]
  },
  {
   "cell_type": "code",
   "execution_count": 16,
   "metadata": {},
   "outputs": [
    {
     "name": "stderr",
     "output_type": "stream",
     "text": [
      "/home/manish/.local/lib/python3.6/site-packages/sklearn/preprocessing/label.py:151: DeprecationWarning: The truth value of an empty array is ambiguous. Returning False, but in future this will result in an error. Use `array.size > 0` to check that an array is not empty.\n",
      "  if diff:\n"
     ]
    }
   ],
   "source": [
    "pred = model.predict_classes(test_x)\n",
    "pred = lb.inverse_transform(pred)\n",
    "\n",
    "test['Class'] = pred\n",
    "test.to_csv(\"age_detection.csv\", index=False)"
   ]
  },
  {
   "cell_type": "code",
   "execution_count": null,
   "metadata": {},
   "outputs": [],
   "source": []
  }
 ],
 "metadata": {
  "kernelspec": {
   "display_name": "Python 3",
   "language": "python",
   "name": "python3"
  },
  "language_info": {
   "codemirror_mode": {
    "name": "ipython",
    "version": 3
   },
   "file_extension": ".py",
   "mimetype": "text/x-python",
   "name": "python",
   "nbconvert_exporter": "python",
   "pygments_lexer": "ipython3",
   "version": "3.6.5"
  }
 },
 "nbformat": 4,
 "nbformat_minor": 2
}
